{
 "cells": [
  {
   "cell_type": "markdown",
   "id": "34cd514a",
   "metadata": {},
   "source": [
    "## Import Dependencies"
   ]
  },
  {
   "cell_type": "code",
   "execution_count": null,
   "id": "0c5b3d60",
   "metadata": {},
   "outputs": [],
   "source": [
    "# import dependencies\n",
    "import cv2\n",
    "import utils\n",
    "import pytesseract\n",
    "\n",
    "from pytesseract import Output"
   ]
  },
  {
   "cell_type": "markdown",
   "id": "4f6ec40d",
   "metadata": {},
   "source": [
    "## Pytesseract OCR "
   ]
  },
  {
   "cell_type": "code",
   "execution_count": null,
   "id": "d1ede26c",
   "metadata": {},
   "outputs": [],
   "source": [
    "# read image using PIL\n",
    "img = cv2.imread('img/sample_3.jpg')\n",
    "\n",
    "# print data with tesseract\n",
    "print(pytesseract.image_to_string(img))"
   ]
  },
  {
   "cell_type": "markdown",
   "id": "33f90aec",
   "metadata": {},
   "source": [
    "## Pytesseract with Image Preprocessing"
   ]
  },
  {
   "cell_type": "code",
   "execution_count": null,
   "id": "a000f0c9",
   "metadata": {},
   "outputs": [],
   "source": [
    "# read image using PIL\n",
    "img = cv2.imread('img/sample_2.jpg')\n",
    "\n",
    "# convert image to grayscale\n",
    "gray_img = utils.img_grayscale(img)\n",
    " \n",
    "# print data with tesseract\n",
    "print(pytesseract.image_to_string(gray_img))"
   ]
  },
  {
   "cell_type": "markdown",
   "id": "7e2fd3b4",
   "metadata": {},
   "source": [
    "## Create Bounding Boxes Over Text with Tesseract"
   ]
  },
  {
   "cell_type": "code",
   "execution_count": null,
   "id": "03812496",
   "metadata": {},
   "outputs": [],
   "source": [
    "# check text bounding boxes\n",
    "d = pytesseract.image_to_data(gray_img, output_type=Output.DICT)\n",
    "\n",
    "# create bounding boxes over image text\n",
    "n_boxes = len(d['level'])\n",
    "for i in range(n_boxes):\n",
    "    if int(d['conf'][i]) > 25:\n",
    "        (x, y, w, h) = (d['left'][i], d['top'][i], d['width'][i], d['height'][i])\n",
    "        img = cv2.rectangle(img, (x, y), (x + w, y + h), (0, 255, 0), 2)\n",
    "\n",
    "# show image\n",
    "cv2.imshow('img', img)\n",
    "cv2.waitKey(0)"
   ]
  },
  {
   "cell_type": "code",
   "execution_count": null,
   "id": "456096bc",
   "metadata": {},
   "outputs": [],
   "source": []
  }
 ],
 "metadata": {
  "kernelspec": {
   "display_name": "Python 3 (ipykernel)",
   "language": "python",
   "name": "python3"
  },
  "language_info": {
   "codemirror_mode": {
    "name": "ipython",
    "version": 3
   },
   "file_extension": ".py",
   "mimetype": "text/x-python",
   "name": "python",
   "nbconvert_exporter": "python",
   "pygments_lexer": "ipython3",
   "version": "3.11.2"
  }
 },
 "nbformat": 4,
 "nbformat_minor": 5
}
